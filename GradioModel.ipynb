{
 "cells": [
  {
   "cell_type": "code",
   "execution_count": 1,
   "id": "f7e2846f-e7ec-405a-9dca-593b329fc6ce",
   "metadata": {},
   "outputs": [
    {
     "name": "stdout",
     "output_type": "stream",
     "text": [
      "Collecting gradio\n",
      "  Downloading gradio-5.29.1-py3-none-any.whl.metadata (16 kB)\n",
      "Requirement already satisfied: torch in /Users/skyzhao/.pyenv/versions/3.12.7/lib/python3.12/site-packages (2.2.2)\n",
      "Requirement already satisfied: torchvision in /Users/skyzhao/.pyenv/versions/3.12.7/lib/python3.12/site-packages (0.17.2)\n",
      "Requirement already satisfied: opencv-python in /Users/skyzhao/.pyenv/versions/3.12.7/lib/python3.12/site-packages (4.9.0.80)\n",
      "Collecting aiofiles<25.0,>=22.0 (from gradio)\n",
      "  Downloading aiofiles-24.1.0-py3-none-any.whl.metadata (10 kB)\n",
      "Requirement already satisfied: anyio<5.0,>=3.0 in /Users/skyzhao/.pyenv/versions/3.12.7/lib/python3.12/site-packages (from gradio) (4.7.0)\n",
      "Requirement already satisfied: fastapi<1.0,>=0.115.2 in /Users/skyzhao/.pyenv/versions/3.12.7/lib/python3.12/site-packages (from gradio) (0.115.12)\n",
      "Collecting ffmpy (from gradio)\n",
      "  Downloading ffmpy-0.5.0-py3-none-any.whl.metadata (3.0 kB)\n",
      "Collecting gradio-client==1.10.1 (from gradio)\n",
      "  Downloading gradio_client-1.10.1-py3-none-any.whl.metadata (7.1 kB)\n",
      "Collecting groovy~=0.1 (from gradio)\n",
      "  Downloading groovy-0.1.2-py3-none-any.whl.metadata (6.1 kB)\n",
      "Requirement already satisfied: httpx>=0.24.1 in /Users/skyzhao/.pyenv/versions/3.12.7/lib/python3.12/site-packages (from gradio) (0.28.1)\n",
      "Requirement already satisfied: huggingface-hub>=0.28.1 in /Users/skyzhao/.pyenv/versions/3.12.7/lib/python3.12/site-packages (from gradio) (0.30.1)\n",
      "Requirement already satisfied: jinja2<4.0 in /Users/skyzhao/.pyenv/versions/3.12.7/lib/python3.12/site-packages (from gradio) (3.1.4)\n",
      "Requirement already satisfied: markupsafe<4.0,>=2.0 in /Users/skyzhao/.pyenv/versions/3.12.7/lib/python3.12/site-packages (from gradio) (3.0.2)\n",
      "Requirement already satisfied: numpy<3.0,>=1.0 in /Users/skyzhao/.pyenv/versions/3.12.7/lib/python3.12/site-packages (from gradio) (1.26.0)\n",
      "Collecting orjson~=3.0 (from gradio)\n",
      "  Downloading orjson-3.10.18-cp312-cp312-macosx_10_15_x86_64.macosx_11_0_arm64.macosx_10_15_universal2.whl.metadata (41 kB)\n",
      "Requirement already satisfied: packaging in /Users/skyzhao/.pyenv/versions/3.12.7/lib/python3.12/site-packages (from gradio) (24.2)\n",
      "Requirement already satisfied: pandas<3.0,>=1.0 in /Users/skyzhao/.pyenv/versions/3.12.7/lib/python3.12/site-packages (from gradio) (2.2.3)\n",
      "Requirement already satisfied: pillow<12.0,>=8.0 in /Users/skyzhao/.pyenv/versions/3.12.7/lib/python3.12/site-packages (from gradio) (11.0.0)\n",
      "Requirement already satisfied: pydantic<2.12,>=2.0 in /Users/skyzhao/.pyenv/versions/3.12.7/lib/python3.12/site-packages (from gradio) (2.11.3)\n",
      "Collecting pydub (from gradio)\n",
      "  Downloading pydub-0.25.1-py2.py3-none-any.whl.metadata (1.4 kB)\n",
      "Requirement already satisfied: python-multipart>=0.0.18 in /Users/skyzhao/.pyenv/versions/3.12.7/lib/python3.12/site-packages (from gradio) (0.0.20)\n",
      "Requirement already satisfied: pyyaml<7.0,>=5.0 in /Users/skyzhao/.pyenv/versions/3.12.7/lib/python3.12/site-packages (from gradio) (6.0.2)\n",
      "Collecting ruff>=0.9.3 (from gradio)\n",
      "  Downloading ruff-0.11.10-py3-none-macosx_10_12_x86_64.whl.metadata (25 kB)\n",
      "Collecting safehttpx<0.2.0,>=0.1.6 (from gradio)\n",
      "  Downloading safehttpx-0.1.6-py3-none-any.whl.metadata (4.2 kB)\n",
      "Collecting semantic-version~=2.0 (from gradio)\n",
      "  Downloading semantic_version-2.10.0-py2.py3-none-any.whl.metadata (9.7 kB)\n",
      "Requirement already satisfied: starlette<1.0,>=0.40.0 in /Users/skyzhao/.pyenv/versions/3.12.7/lib/python3.12/site-packages (from gradio) (0.46.2)\n",
      "Collecting tomlkit<0.14.0,>=0.12.0 (from gradio)\n",
      "  Downloading tomlkit-0.13.2-py3-none-any.whl.metadata (2.7 kB)\n",
      "Collecting typer<1.0,>=0.12 (from gradio)\n",
      "  Downloading typer-0.15.4-py3-none-any.whl.metadata (15 kB)\n",
      "Requirement already satisfied: typing-extensions~=4.0 in /Users/skyzhao/.pyenv/versions/3.12.7/lib/python3.12/site-packages (from gradio) (4.12.2)\n",
      "Requirement already satisfied: uvicorn>=0.14.0 in /Users/skyzhao/.pyenv/versions/3.12.7/lib/python3.12/site-packages (from gradio) (0.34.2)\n",
      "Requirement already satisfied: fsspec in /Users/skyzhao/.pyenv/versions/3.12.7/lib/python3.12/site-packages (from gradio-client==1.10.1->gradio) (2024.10.0)\n",
      "Requirement already satisfied: websockets<16.0,>=10.0 in /Users/skyzhao/.pyenv/versions/3.12.7/lib/python3.12/site-packages (from gradio-client==1.10.1->gradio) (10.4)\n",
      "Requirement already satisfied: filelock in /Users/skyzhao/.pyenv/versions/3.12.7/lib/python3.12/site-packages (from torch) (3.16.1)\n",
      "Requirement already satisfied: sympy in /Users/skyzhao/.pyenv/versions/3.12.7/lib/python3.12/site-packages (from torch) (1.13.3)\n",
      "Requirement already satisfied: networkx in /Users/skyzhao/.pyenv/versions/3.12.7/lib/python3.12/site-packages (from torch) (3.4.2)\n",
      "Requirement already satisfied: idna>=2.8 in /Users/skyzhao/.pyenv/versions/3.12.7/lib/python3.12/site-packages (from anyio<5.0,>=3.0->gradio) (3.10)\n",
      "Requirement already satisfied: sniffio>=1.1 in /Users/skyzhao/.pyenv/versions/3.12.7/lib/python3.12/site-packages (from anyio<5.0,>=3.0->gradio) (1.3.1)\n",
      "Requirement already satisfied: certifi in /Users/skyzhao/.pyenv/versions/3.12.7/lib/python3.12/site-packages (from httpx>=0.24.1->gradio) (2024.8.30)\n",
      "Requirement already satisfied: httpcore==1.* in /Users/skyzhao/.pyenv/versions/3.12.7/lib/python3.12/site-packages (from httpx>=0.24.1->gradio) (1.0.7)\n",
      "Requirement already satisfied: h11<0.15,>=0.13 in /Users/skyzhao/.pyenv/versions/3.12.7/lib/python3.12/site-packages (from httpcore==1.*->httpx>=0.24.1->gradio) (0.14.0)\n",
      "Requirement already satisfied: requests in /Users/skyzhao/.pyenv/versions/3.12.7/lib/python3.12/site-packages (from huggingface-hub>=0.28.1->gradio) (2.32.3)\n",
      "Requirement already satisfied: tqdm>=4.42.1 in /Users/skyzhao/.pyenv/versions/3.12.7/lib/python3.12/site-packages (from huggingface-hub>=0.28.1->gradio) (4.67.1)\n",
      "Requirement already satisfied: python-dateutil>=2.8.2 in /Users/skyzhao/.pyenv/versions/3.12.7/lib/python3.12/site-packages (from pandas<3.0,>=1.0->gradio) (2.9.0.post0)\n",
      "Requirement already satisfied: pytz>=2020.1 in /Users/skyzhao/.pyenv/versions/3.12.7/lib/python3.12/site-packages (from pandas<3.0,>=1.0->gradio) (2024.2)\n",
      "Requirement already satisfied: tzdata>=2022.7 in /Users/skyzhao/.pyenv/versions/3.12.7/lib/python3.12/site-packages (from pandas<3.0,>=1.0->gradio) (2024.2)\n",
      "Requirement already satisfied: annotated-types>=0.6.0 in /Users/skyzhao/.pyenv/versions/3.12.7/lib/python3.12/site-packages (from pydantic<2.12,>=2.0->gradio) (0.7.0)\n",
      "Requirement already satisfied: pydantic-core==2.33.1 in /Users/skyzhao/.pyenv/versions/3.12.7/lib/python3.12/site-packages (from pydantic<2.12,>=2.0->gradio) (2.33.1)\n",
      "Requirement already satisfied: typing-inspection>=0.4.0 in /Users/skyzhao/.pyenv/versions/3.12.7/lib/python3.12/site-packages (from pydantic<2.12,>=2.0->gradio) (0.4.0)\n",
      "Requirement already satisfied: click<8.2,>=8.0.0 in /Users/skyzhao/.pyenv/versions/3.12.7/lib/python3.12/site-packages (from typer<1.0,>=0.12->gradio) (8.1.8)\n",
      "Collecting shellingham>=1.3.0 (from typer<1.0,>=0.12->gradio)\n",
      "  Downloading shellingham-1.5.4-py2.py3-none-any.whl.metadata (3.5 kB)\n",
      "Requirement already satisfied: rich>=10.11.0 in /Users/skyzhao/.pyenv/versions/3.12.7/lib/python3.12/site-packages (from typer<1.0,>=0.12->gradio) (13.9.4)\n",
      "Requirement already satisfied: mpmath<1.4,>=1.1.0 in /Users/skyzhao/.pyenv/versions/3.12.7/lib/python3.12/site-packages (from sympy->torch) (1.3.0)\n",
      "Requirement already satisfied: six>=1.5 in /Users/skyzhao/.pyenv/versions/3.12.7/lib/python3.12/site-packages (from python-dateutil>=2.8.2->pandas<3.0,>=1.0->gradio) (1.16.0)\n",
      "Requirement already satisfied: markdown-it-py>=2.2.0 in /Users/skyzhao/.pyenv/versions/3.12.7/lib/python3.12/site-packages (from rich>=10.11.0->typer<1.0,>=0.12->gradio) (3.0.0)\n",
      "Requirement already satisfied: pygments<3.0.0,>=2.13.0 in /Users/skyzhao/.pyenv/versions/3.12.7/lib/python3.12/site-packages (from rich>=10.11.0->typer<1.0,>=0.12->gradio) (2.18.0)\n",
      "Requirement already satisfied: charset-normalizer<4,>=2 in /Users/skyzhao/.pyenv/versions/3.12.7/lib/python3.12/site-packages (from requests->huggingface-hub>=0.28.1->gradio) (3.4.0)\n",
      "Requirement already satisfied: urllib3<3,>=1.21.1 in /Users/skyzhao/.pyenv/versions/3.12.7/lib/python3.12/site-packages (from requests->huggingface-hub>=0.28.1->gradio) (1.26.20)\n",
      "Requirement already satisfied: mdurl~=0.1 in /Users/skyzhao/.pyenv/versions/3.12.7/lib/python3.12/site-packages (from markdown-it-py>=2.2.0->rich>=10.11.0->typer<1.0,>=0.12->gradio) (0.1.2)\n",
      "Downloading gradio-5.29.1-py3-none-any.whl (54.1 MB)\n",
      "\u001b[2K   \u001b[90m━━━━━━━━━━━━━━━━━━━━━━━━━━━━━━━━━━━━━━━━\u001b[0m \u001b[32m54.1/54.1 MB\u001b[0m \u001b[31m51.3 MB/s\u001b[0m eta \u001b[36m0:00:00\u001b[0m00:01\u001b[0m00:01\u001b[0m\n",
      "Downloading gradio_client-1.10.1-py3-none-any.whl (323 kB)\n",
      "Downloading aiofiles-24.1.0-py3-none-any.whl (15 kB)\n",
      "Downloading groovy-0.1.2-py3-none-any.whl (14 kB)\n",
      "Downloading orjson-3.10.18-cp312-cp312-macosx_10_15_x86_64.macosx_11_0_arm64.macosx_10_15_universal2.whl (249 kB)\n",
      "Downloading ruff-0.11.10-py3-none-macosx_10_12_x86_64.whl (11.1 MB)\n",
      "\u001b[2K   \u001b[90m━━━━━━━━━━━━━━━━━━━━━━━━━━━━━━━━━━━━━━━━\u001b[0m \u001b[32m11.1/11.1 MB\u001b[0m \u001b[31m56.9 MB/s\u001b[0m eta \u001b[36m0:00:00\u001b[0m\n",
      "Downloading safehttpx-0.1.6-py3-none-any.whl (8.7 kB)\n",
      "Downloading semantic_version-2.10.0-py2.py3-none-any.whl (15 kB)\n",
      "Downloading tomlkit-0.13.2-py3-none-any.whl (37 kB)\n",
      "Downloading typer-0.15.4-py3-none-any.whl (45 kB)\n",
      "Downloading ffmpy-0.5.0-py3-none-any.whl (6.0 kB)\n",
      "Downloading pydub-0.25.1-py2.py3-none-any.whl (32 kB)\n",
      "Downloading shellingham-1.5.4-py2.py3-none-any.whl (9.8 kB)\n",
      "Installing collected packages: pydub, tomlkit, shellingham, semantic-version, ruff, orjson, groovy, ffmpy, aiofiles, typer, safehttpx, gradio-client, gradio\n",
      "Successfully installed aiofiles-24.1.0 ffmpy-0.5.0 gradio-5.29.1 gradio-client-1.10.1 groovy-0.1.2 orjson-3.10.18 pydub-0.25.1 ruff-0.11.10 safehttpx-0.1.6 semantic-version-2.10.0 shellingham-1.5.4 tomlkit-0.13.2 typer-0.15.4\n",
      "\n",
      "\u001b[1m[\u001b[0m\u001b[34;49mnotice\u001b[0m\u001b[1;39;49m]\u001b[0m\u001b[39;49m A new release of pip is available: \u001b[0m\u001b[31;49m25.0.1\u001b[0m\u001b[39;49m -> \u001b[0m\u001b[32;49m25.1.1\u001b[0m\n",
      "\u001b[1m[\u001b[0m\u001b[34;49mnotice\u001b[0m\u001b[1;39;49m]\u001b[0m\u001b[39;49m To update, run: \u001b[0m\u001b[32;49mpip install --upgrade pip\u001b[0m\n",
      "Note: you may need to restart the kernel to use updated packages.\n"
     ]
    }
   ],
   "source": [
    "pip install gradio torch torchvision opencv-python"
   ]
  },
  {
   "cell_type": "code",
   "execution_count": null,
   "id": "62e4e62e-f92a-42a8-b13f-510bb8b32d07",
   "metadata": {},
   "outputs": [],
   "source": [
    "import torch\n",
    "\n",
    "# Load the YOLOv5l model\n",
    "model = torch.hub.load('ultralytics/yolov5', 'custom', path='best.pt', force_reload=True) # awaiting the path to the saved model"
   ]
  },
  {
   "cell_type": "code",
   "execution_count": null,
   "id": "53e4f213-5171-4892-9395-9304416b3d99",
   "metadata": {},
   "outputs": [],
   "source": [
    "from PIL import Image\n",
    "import numpy as np\n",
    "\n",
    "def detect_objects(image):\n",
    "    # Perform inference\n",
    "    results = model(image)\n",
    "    \n",
    "    # Render results on the image\n",
    "    results.render()\n",
    "    \n",
    "    # Convert the image to PIL format\n",
    "    annotated_image = Image.fromarray(results.ims[0])\n",
    "    \n",
    "    # Extract detected labels\n",
    "    labels = results.pandas().xyxy[0]['name'].unique().tolist()\n",
    "    label_text = ', '.join(labels) if labels else 'No objects detected'\n",
    "    \n",
    "    return annotated_image, label_text\n"
   ]
  },
  {
   "cell_type": "code",
   "execution_count": null,
   "id": "eb4ffa77-99ba-4dfb-b617-b1ca03ac4fcf",
   "metadata": {},
   "outputs": [],
   "source": [
    "import gradio as gr\n",
    "\n",
    "# Create the Gradio interface\n",
    "interface = gr.Interface(\n",
    "    fn=detect_objects,\n",
    "    inputs=gr.Image(source=\"camera\", type=\"pil\"), # could adjust to have it output something else \n",
    "    outputs=[\"image\", \"text\"],\n",
    "    title=\"YOLOv5l Object Detection\",\n",
    "    description=\"Capture an image using your camera to detect objects.\"\n",
    ")\n",
    "\n",
    "# Launch the interface\n",
    "interface.launch()\n"
   ]
  },
  {
   "cell_type": "code",
   "execution_count": 3,
   "id": "9c3999a2-2976-43fc-ac1d-86dfc7974e87",
   "metadata": {},
   "outputs": [
    {
     "name": "stderr",
     "output_type": "stream",
     "text": [
      "/Users/skyzhao/.pyenv/versions/3.12.7/lib/python3.12/site-packages/tqdm/auto.py:21: TqdmWarning: IProgress not found. Please update jupyter and ipywidgets. See https://ipywidgets.readthedocs.io/en/stable/user_install.html\n",
      "  from .autonotebook import tqdm as notebook_tqdm\n"
     ]
    },
    {
     "name": "stdout",
     "output_type": "stream",
     "text": [
      "* Running on local URL:  http://127.0.0.1:7860\n",
      "* To create a public link, set `share=True` in `launch()`.\n"
     ]
    },
    {
     "data": {
      "text/html": [
       "<div><iframe src=\"http://127.0.0.1:7860/\" width=\"100%\" height=\"500\" allow=\"autoplay; camera; microphone; clipboard-read; clipboard-write;\" frameborder=\"0\" allowfullscreen></iframe></div>"
      ],
      "text/plain": [
       "<IPython.core.display.HTML object>"
      ]
     },
     "metadata": {},
     "output_type": "display_data"
    },
    {
     "data": {
      "text/plain": []
     },
     "execution_count": 3,
     "metadata": {},
     "output_type": "execute_result"
    }
   ],
   "source": [
    "import gradio as gr\n",
    "\n",
    "def greet(name, intensity):\n",
    "    return \"Hello, \" + name + \"!\" * int(intensity)\n",
    "\n",
    "demo = gr.Interface(\n",
    "    fn=greet,\n",
    "    inputs=[\"text\", \"slider\"],\n",
    "    outputs=[\"text\"],\n",
    ")\n",
    "\n",
    "demo.launch()\n"
   ]
  },
  {
   "cell_type": "code",
   "execution_count": 4,
   "id": "bfc8f0f7-73bb-46cf-a3a7-827da718c266",
   "metadata": {},
   "outputs": [
    {
     "name": "stdout",
     "output_type": "stream",
     "text": [
      "* Running on local URL:  http://127.0.0.1:7861\n",
      "* Running on public URL: https://fece2ddb5965b2e108.gradio.live\n",
      "\n",
      "This share link expires in 1 week. For free permanent hosting and GPU upgrades, run `gradio deploy` from the terminal in the working directory to deploy to Hugging Face Spaces (https://huggingface.co/spaces)\n"
     ]
    },
    {
     "data": {
      "text/html": [
       "<div><iframe src=\"https://fece2ddb5965b2e108.gradio.live\" width=\"100%\" height=\"500\" allow=\"autoplay; camera; microphone; clipboard-read; clipboard-write;\" frameborder=\"0\" allowfullscreen></iframe></div>"
      ],
      "text/plain": [
       "<IPython.core.display.HTML object>"
      ]
     },
     "metadata": {},
     "output_type": "display_data"
    },
    {
     "data": {
      "text/plain": []
     },
     "execution_count": 4,
     "metadata": {},
     "output_type": "execute_result"
    }
   ],
   "source": [
    "import gradio as gr\n",
    "\n",
    "def greet(name):\n",
    "    return \"Hello \" + name + \"!\"\n",
    "\n",
    "demo = gr.Interface(fn=greet, inputs=\"textbox\", outputs=\"textbox\")\n",
    "    \n",
    "demo.launch(share=True)  # Share your demo with just 1 extra parameter 🚀"
   ]
  },
  {
   "cell_type": "code",
   "execution_count": null,
   "id": "e2bfe8cb-34cb-4520-ae1a-bce9934f8a3d",
   "metadata": {},
   "outputs": [],
   "source": []
  }
 ],
 "metadata": {
  "kernelspec": {
   "display_name": "Python 3 (ipykernel)",
   "language": "python",
   "name": "python3"
  },
  "language_info": {
   "codemirror_mode": {
    "name": "ipython",
    "version": 3
   },
   "file_extension": ".py",
   "mimetype": "text/x-python",
   "name": "python",
   "nbconvert_exporter": "python",
   "pygments_lexer": "ipython3",
   "version": "3.12.7"
  }
 },
 "nbformat": 4,
 "nbformat_minor": 5
}
