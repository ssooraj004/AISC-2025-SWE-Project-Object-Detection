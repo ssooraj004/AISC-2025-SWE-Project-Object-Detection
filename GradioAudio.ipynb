{
 "cells": [
  {
   "cell_type": "code",
   "execution_count": 1,
   "id": "2c40cec7-18cd-4ec5-9794-7e21eeb6f287",
   "metadata": {},
   "outputs": [
    {
     "name": "stdout",
     "output_type": "stream",
     "text": [
      "Requirement already satisfied: gradio in /Users/skyzhao/.pyenv/versions/3.12.7/lib/python3.12/site-packages (5.29.1)\n",
      "Requirement already satisfied: torch in /Users/skyzhao/.pyenv/versions/3.12.7/lib/python3.12/site-packages (2.2.2)\n",
      "Requirement already satisfied: torchvision in /Users/skyzhao/.pyenv/versions/3.12.7/lib/python3.12/site-packages (0.17.2)\n",
      "Collecting gtts\n",
      "  Downloading gTTS-2.5.4-py3-none-any.whl.metadata (4.1 kB)\n",
      "Requirement already satisfied: aiofiles<25.0,>=22.0 in /Users/skyzhao/.pyenv/versions/3.12.7/lib/python3.12/site-packages (from gradio) (24.1.0)\n",
      "Requirement already satisfied: anyio<5.0,>=3.0 in /Users/skyzhao/.pyenv/versions/3.12.7/lib/python3.12/site-packages (from gradio) (4.7.0)\n",
      "Requirement already satisfied: fastapi<1.0,>=0.115.2 in /Users/skyzhao/.pyenv/versions/3.12.7/lib/python3.12/site-packages (from gradio) (0.115.12)\n",
      "Requirement already satisfied: ffmpy in /Users/skyzhao/.pyenv/versions/3.12.7/lib/python3.12/site-packages (from gradio) (0.5.0)\n",
      "Requirement already satisfied: gradio-client==1.10.1 in /Users/skyzhao/.pyenv/versions/3.12.7/lib/python3.12/site-packages (from gradio) (1.10.1)\n",
      "Requirement already satisfied: groovy~=0.1 in /Users/skyzhao/.pyenv/versions/3.12.7/lib/python3.12/site-packages (from gradio) (0.1.2)\n",
      "Requirement already satisfied: httpx>=0.24.1 in /Users/skyzhao/.pyenv/versions/3.12.7/lib/python3.12/site-packages (from gradio) (0.28.1)\n",
      "Requirement already satisfied: huggingface-hub>=0.28.1 in /Users/skyzhao/.pyenv/versions/3.12.7/lib/python3.12/site-packages (from gradio) (0.30.1)\n",
      "Requirement already satisfied: jinja2<4.0 in /Users/skyzhao/.pyenv/versions/3.12.7/lib/python3.12/site-packages (from gradio) (3.1.4)\n",
      "Requirement already satisfied: markupsafe<4.0,>=2.0 in /Users/skyzhao/.pyenv/versions/3.12.7/lib/python3.12/site-packages (from gradio) (3.0.2)\n",
      "Requirement already satisfied: numpy<3.0,>=1.0 in /Users/skyzhao/.pyenv/versions/3.12.7/lib/python3.12/site-packages (from gradio) (1.26.0)\n",
      "Requirement already satisfied: orjson~=3.0 in /Users/skyzhao/.pyenv/versions/3.12.7/lib/python3.12/site-packages (from gradio) (3.10.18)\n",
      "Requirement already satisfied: packaging in /Users/skyzhao/.pyenv/versions/3.12.7/lib/python3.12/site-packages (from gradio) (24.2)\n",
      "Requirement already satisfied: pandas<3.0,>=1.0 in /Users/skyzhao/.pyenv/versions/3.12.7/lib/python3.12/site-packages (from gradio) (2.2.3)\n",
      "Requirement already satisfied: pillow<12.0,>=8.0 in /Users/skyzhao/.pyenv/versions/3.12.7/lib/python3.12/site-packages (from gradio) (11.0.0)\n",
      "Requirement already satisfied: pydantic<2.12,>=2.0 in /Users/skyzhao/.pyenv/versions/3.12.7/lib/python3.12/site-packages (from gradio) (2.11.3)\n",
      "Requirement already satisfied: pydub in /Users/skyzhao/.pyenv/versions/3.12.7/lib/python3.12/site-packages (from gradio) (0.25.1)\n",
      "Requirement already satisfied: python-multipart>=0.0.18 in /Users/skyzhao/.pyenv/versions/3.12.7/lib/python3.12/site-packages (from gradio) (0.0.20)\n",
      "Requirement already satisfied: pyyaml<7.0,>=5.0 in /Users/skyzhao/.pyenv/versions/3.12.7/lib/python3.12/site-packages (from gradio) (6.0.2)\n",
      "Requirement already satisfied: ruff>=0.9.3 in /Users/skyzhao/.pyenv/versions/3.12.7/lib/python3.12/site-packages (from gradio) (0.11.10)\n",
      "Requirement already satisfied: safehttpx<0.2.0,>=0.1.6 in /Users/skyzhao/.pyenv/versions/3.12.7/lib/python3.12/site-packages (from gradio) (0.1.6)\n",
      "Requirement already satisfied: semantic-version~=2.0 in /Users/skyzhao/.pyenv/versions/3.12.7/lib/python3.12/site-packages (from gradio) (2.10.0)\n",
      "Requirement already satisfied: starlette<1.0,>=0.40.0 in /Users/skyzhao/.pyenv/versions/3.12.7/lib/python3.12/site-packages (from gradio) (0.46.2)\n",
      "Requirement already satisfied: tomlkit<0.14.0,>=0.12.0 in /Users/skyzhao/.pyenv/versions/3.12.7/lib/python3.12/site-packages (from gradio) (0.13.2)\n",
      "Requirement already satisfied: typer<1.0,>=0.12 in /Users/skyzhao/.pyenv/versions/3.12.7/lib/python3.12/site-packages (from gradio) (0.15.4)\n",
      "Requirement already satisfied: typing-extensions~=4.0 in /Users/skyzhao/.pyenv/versions/3.12.7/lib/python3.12/site-packages (from gradio) (4.12.2)\n",
      "Requirement already satisfied: uvicorn>=0.14.0 in /Users/skyzhao/.pyenv/versions/3.12.7/lib/python3.12/site-packages (from gradio) (0.34.2)\n",
      "Requirement already satisfied: fsspec in /Users/skyzhao/.pyenv/versions/3.12.7/lib/python3.12/site-packages (from gradio-client==1.10.1->gradio) (2024.10.0)\n",
      "Requirement already satisfied: websockets<16.0,>=10.0 in /Users/skyzhao/.pyenv/versions/3.12.7/lib/python3.12/site-packages (from gradio-client==1.10.1->gradio) (10.4)\n",
      "Requirement already satisfied: filelock in /Users/skyzhao/.pyenv/versions/3.12.7/lib/python3.12/site-packages (from torch) (3.16.1)\n",
      "Requirement already satisfied: sympy in /Users/skyzhao/.pyenv/versions/3.12.7/lib/python3.12/site-packages (from torch) (1.13.3)\n",
      "Requirement already satisfied: networkx in /Users/skyzhao/.pyenv/versions/3.12.7/lib/python3.12/site-packages (from torch) (3.4.2)\n",
      "Requirement already satisfied: requests<3,>=2.27 in /Users/skyzhao/.pyenv/versions/3.12.7/lib/python3.12/site-packages (from gtts) (2.32.3)\n",
      "Requirement already satisfied: click<8.2,>=7.1 in /Users/skyzhao/.pyenv/versions/3.12.7/lib/python3.12/site-packages (from gtts) (8.1.8)\n",
      "Requirement already satisfied: idna>=2.8 in /Users/skyzhao/.pyenv/versions/3.12.7/lib/python3.12/site-packages (from anyio<5.0,>=3.0->gradio) (3.10)\n",
      "Requirement already satisfied: sniffio>=1.1 in /Users/skyzhao/.pyenv/versions/3.12.7/lib/python3.12/site-packages (from anyio<5.0,>=3.0->gradio) (1.3.1)\n",
      "Requirement already satisfied: certifi in /Users/skyzhao/.pyenv/versions/3.12.7/lib/python3.12/site-packages (from httpx>=0.24.1->gradio) (2024.8.30)\n",
      "Requirement already satisfied: httpcore==1.* in /Users/skyzhao/.pyenv/versions/3.12.7/lib/python3.12/site-packages (from httpx>=0.24.1->gradio) (1.0.7)\n",
      "Requirement already satisfied: h11<0.15,>=0.13 in /Users/skyzhao/.pyenv/versions/3.12.7/lib/python3.12/site-packages (from httpcore==1.*->httpx>=0.24.1->gradio) (0.14.0)\n",
      "Requirement already satisfied: tqdm>=4.42.1 in /Users/skyzhao/.pyenv/versions/3.12.7/lib/python3.12/site-packages (from huggingface-hub>=0.28.1->gradio) (4.67.1)\n",
      "Requirement already satisfied: python-dateutil>=2.8.2 in /Users/skyzhao/.pyenv/versions/3.12.7/lib/python3.12/site-packages (from pandas<3.0,>=1.0->gradio) (2.9.0.post0)\n",
      "Requirement already satisfied: pytz>=2020.1 in /Users/skyzhao/.pyenv/versions/3.12.7/lib/python3.12/site-packages (from pandas<3.0,>=1.0->gradio) (2024.2)\n",
      "Requirement already satisfied: tzdata>=2022.7 in /Users/skyzhao/.pyenv/versions/3.12.7/lib/python3.12/site-packages (from pandas<3.0,>=1.0->gradio) (2024.2)\n",
      "Requirement already satisfied: annotated-types>=0.6.0 in /Users/skyzhao/.pyenv/versions/3.12.7/lib/python3.12/site-packages (from pydantic<2.12,>=2.0->gradio) (0.7.0)\n",
      "Requirement already satisfied: pydantic-core==2.33.1 in /Users/skyzhao/.pyenv/versions/3.12.7/lib/python3.12/site-packages (from pydantic<2.12,>=2.0->gradio) (2.33.1)\n",
      "Requirement already satisfied: typing-inspection>=0.4.0 in /Users/skyzhao/.pyenv/versions/3.12.7/lib/python3.12/site-packages (from pydantic<2.12,>=2.0->gradio) (0.4.0)\n",
      "Requirement already satisfied: charset-normalizer<4,>=2 in /Users/skyzhao/.pyenv/versions/3.12.7/lib/python3.12/site-packages (from requests<3,>=2.27->gtts) (3.4.0)\n",
      "Requirement already satisfied: urllib3<3,>=1.21.1 in /Users/skyzhao/.pyenv/versions/3.12.7/lib/python3.12/site-packages (from requests<3,>=2.27->gtts) (1.26.20)\n",
      "Requirement already satisfied: shellingham>=1.3.0 in /Users/skyzhao/.pyenv/versions/3.12.7/lib/python3.12/site-packages (from typer<1.0,>=0.12->gradio) (1.5.4)\n",
      "Requirement already satisfied: rich>=10.11.0 in /Users/skyzhao/.pyenv/versions/3.12.7/lib/python3.12/site-packages (from typer<1.0,>=0.12->gradio) (13.9.4)\n",
      "Requirement already satisfied: mpmath<1.4,>=1.1.0 in /Users/skyzhao/.pyenv/versions/3.12.7/lib/python3.12/site-packages (from sympy->torch) (1.3.0)\n",
      "Requirement already satisfied: six>=1.5 in /Users/skyzhao/.pyenv/versions/3.12.7/lib/python3.12/site-packages (from python-dateutil>=2.8.2->pandas<3.0,>=1.0->gradio) (1.16.0)\n",
      "Requirement already satisfied: markdown-it-py>=2.2.0 in /Users/skyzhao/.pyenv/versions/3.12.7/lib/python3.12/site-packages (from rich>=10.11.0->typer<1.0,>=0.12->gradio) (3.0.0)\n",
      "Requirement already satisfied: pygments<3.0.0,>=2.13.0 in /Users/skyzhao/.pyenv/versions/3.12.7/lib/python3.12/site-packages (from rich>=10.11.0->typer<1.0,>=0.12->gradio) (2.18.0)\n",
      "Requirement already satisfied: mdurl~=0.1 in /Users/skyzhao/.pyenv/versions/3.12.7/lib/python3.12/site-packages (from markdown-it-py>=2.2.0->rich>=10.11.0->typer<1.0,>=0.12->gradio) (0.1.2)\n",
      "Downloading gTTS-2.5.4-py3-none-any.whl (29 kB)\n",
      "Installing collected packages: gtts\n",
      "Successfully installed gtts-2.5.4\n",
      "\n",
      "\u001b[1m[\u001b[0m\u001b[34;49mnotice\u001b[0m\u001b[1;39;49m]\u001b[0m\u001b[39;49m A new release of pip is available: \u001b[0m\u001b[31;49m25.0.1\u001b[0m\u001b[39;49m -> \u001b[0m\u001b[32;49m25.1.1\u001b[0m\n",
      "\u001b[1m[\u001b[0m\u001b[34;49mnotice\u001b[0m\u001b[1;39;49m]\u001b[0m\u001b[39;49m To update, run: \u001b[0m\u001b[32;49mpip install --upgrade pip\u001b[0m\n",
      "Note: you may need to restart the kernel to use updated packages.\n"
     ]
    }
   ],
   "source": [
    "pip install gradio torch torchvision gtts\n"
   ]
  },
  {
   "cell_type": "code",
   "execution_count": 2,
   "id": "60bddfba-4430-4691-92e0-5edb46a2ca7a",
   "metadata": {},
   "outputs": [
    {
     "name": "stderr",
     "output_type": "stream",
     "text": [
      "/Users/skyzhao/.pyenv/versions/3.12.7/lib/python3.12/site-packages/tqdm/auto.py:21: TqdmWarning: IProgress not found. Please update jupyter and ipywidgets. See https://ipywidgets.readthedocs.io/en/stable/user_install.html\n",
      "  from .autonotebook import tqdm as notebook_tqdm\n",
      "Using cache found in /Users/skyzhao/.cache/torch/hub/ultralytics_yolov5_master\n"
     ]
    },
    {
     "name": "stdout",
     "output_type": "stream",
     "text": [
      "\u001b[31m\u001b[1mrequirements:\u001b[0m Ultralytics requirement ['gitpython>=3.1.30'] not found, attempting AutoUpdate...\n",
      "WARNING ⚠️ Retry 1/2 failed: Command 'uv pip install --system --no-cache-dir \"gitpython>=3.1.30\"  --index-strategy=unsafe-best-match --break-system-packages --prerelease=allow' returned non-zero exit status 127.\n"
     ]
    },
    {
     "name": "stderr",
     "output_type": "stream",
     "text": [
      "/bin/sh: uv: command not found\n"
     ]
    },
    {
     "name": "stdout",
     "output_type": "stream",
     "text": [
      "WARNING ⚠️ Retry 2/2 failed: Command 'uv pip install --system --no-cache-dir \"gitpython>=3.1.30\"  --index-strategy=unsafe-best-match --break-system-packages --prerelease=allow' returned non-zero exit status 127.\n",
      "WARNING ⚠️ \u001b[31m\u001b[1mrequirements:\u001b[0m ❌ Command 'uv pip install --system --no-cache-dir \"gitpython>=3.1.30\"  --index-strategy=unsafe-best-match --break-system-packages --prerelease=allow' returned non-zero exit status 127.\n"
     ]
    },
    {
     "name": "stderr",
     "output_type": "stream",
     "text": [
      "/bin/sh: uv: command not found\n",
      "YOLOv5 🚀 2025-5-18 Python-3.12.7 torch-2.2.2 CPU\n",
      "\n",
      "Downloading https://github.com/ultralytics/yolov5/releases/download/v7.0/yolov5l.pt to yolov5l.pt...\n",
      "\n",
      "\n",
      "Fusing layers... \n",
      "YOLOv5l summary: 367 layers, 46533693 parameters, 0 gradients, 109.0 GFLOPs\n",
      "Adding AutoShape... \n"
     ]
    },
    {
     "name": "stdout",
     "output_type": "stream",
     "text": [
      "* Running on local URL:  http://127.0.0.1:7860\n",
      "* To create a public link, set `share=True` in `launch()`.\n"
     ]
    },
    {
     "data": {
      "text/html": [
       "<div><iframe src=\"http://127.0.0.1:7860/\" width=\"100%\" height=\"500\" allow=\"autoplay; camera; microphone; clipboard-read; clipboard-write;\" frameborder=\"0\" allowfullscreen></iframe></div>"
      ],
      "text/plain": [
       "<IPython.core.display.HTML object>"
      ]
     },
     "metadata": {},
     "output_type": "display_data"
    },
    {
     "data": {
      "text/plain": []
     },
     "execution_count": 2,
     "metadata": {},
     "output_type": "execute_result"
    },
    {
     "name": "stderr",
     "output_type": "stream",
     "text": [
      "Traceback (most recent call last):\n",
      "  File \"/Users/skyzhao/.pyenv/versions/3.12.7/lib/python3.12/site-packages/gradio/queueing.py\", line 625, in process_events\n",
      "    response = await route_utils.call_process_api(\n",
      "               ^^^^^^^^^^^^^^^^^^^^^^^^^^^^^^^^^^^\n",
      "  File \"/Users/skyzhao/.pyenv/versions/3.12.7/lib/python3.12/site-packages/gradio/route_utils.py\", line 322, in call_process_api\n",
      "    output = await app.get_blocks().process_api(\n",
      "             ^^^^^^^^^^^^^^^^^^^^^^^^^^^^^^^^^^^\n",
      "  File \"/Users/skyzhao/.pyenv/versions/3.12.7/lib/python3.12/site-packages/gradio/blocks.py\", line 2147, in process_api\n",
      "    result = await self.call_function(\n",
      "             ^^^^^^^^^^^^^^^^^^^^^^^^^\n",
      "  File \"/Users/skyzhao/.pyenv/versions/3.12.7/lib/python3.12/site-packages/gradio/blocks.py\", line 1665, in call_function\n",
      "    prediction = await anyio.to_thread.run_sync(  # type: ignore\n",
      "                 ^^^^^^^^^^^^^^^^^^^^^^^^^^^^^^^^^^^^^^^^^^^^^^^\n",
      "  File \"/Users/skyzhao/.pyenv/versions/3.12.7/lib/python3.12/site-packages/anyio/to_thread.py\", line 56, in run_sync\n",
      "    return await get_async_backend().run_sync_in_worker_thread(\n",
      "           ^^^^^^^^^^^^^^^^^^^^^^^^^^^^^^^^^^^^^^^^^^^^^^^^^^^^\n",
      "  File \"/Users/skyzhao/.pyenv/versions/3.12.7/lib/python3.12/site-packages/anyio/_backends/_asyncio.py\", line 2505, in run_sync_in_worker_thread\n",
      "    return await future\n",
      "           ^^^^^^^^^^^^\n",
      "  File \"/Users/skyzhao/.pyenv/versions/3.12.7/lib/python3.12/site-packages/anyio/_backends/_asyncio.py\", line 1005, in run\n",
      "    result = context.run(func, *args)\n",
      "             ^^^^^^^^^^^^^^^^^^^^^^^^\n",
      "  File \"/Users/skyzhao/.pyenv/versions/3.12.7/lib/python3.12/site-packages/gradio/utils.py\", line 889, in wrapper\n",
      "    response = f(*args, **kwargs)\n",
      "               ^^^^^^^^^^^^^^^^^^\n",
      "  File \"/var/folders/4g/3jch0npn24s1qh_3msm1942w0000gn/T/ipykernel_92993/1666576672.py\", line 14, in detect_and_speak\n",
      "    results = model(image)\n",
      "              ^^^^^^^^^^^^\n",
      "  File \"/Users/skyzhao/.pyenv/versions/3.12.7/lib/python3.12/site-packages/torch/nn/modules/module.py\", line 1511, in _wrapped_call_impl\n",
      "    return self._call_impl(*args, **kwargs)\n",
      "           ^^^^^^^^^^^^^^^^^^^^^^^^^^^^^^^^\n",
      "  File \"/Users/skyzhao/.pyenv/versions/3.12.7/lib/python3.12/site-packages/torch/nn/modules/module.py\", line 1520, in _call_impl\n",
      "    return forward_call(*args, **kwargs)\n",
      "           ^^^^^^^^^^^^^^^^^^^^^^^^^^^^^\n",
      "  File \"/Users/skyzhao/.pyenv/versions/3.12.7/lib/python3.12/site-packages/torch/utils/_contextlib.py\", line 115, in decorate_context\n",
      "    return func(*args, **kwargs)\n",
      "           ^^^^^^^^^^^^^^^^^^^^^\n",
      "  File \"/Users/skyzhao/.cache/torch/hub/ultralytics_yolov5_master/models/common.py\", line 894, in forward\n",
      "    if im.shape[0] < 5:  # image in CHW\n",
      "       ^^^^^^^^\n",
      "AttributeError: 'NoneType' object has no attribute 'shape'\n",
      "Traceback (most recent call last):\n",
      "  File \"/Users/skyzhao/.pyenv/versions/3.12.7/lib/python3.12/site-packages/gradio/queueing.py\", line 625, in process_events\n",
      "    response = await route_utils.call_process_api(\n",
      "               ^^^^^^^^^^^^^^^^^^^^^^^^^^^^^^^^^^^\n",
      "  File \"/Users/skyzhao/.pyenv/versions/3.12.7/lib/python3.12/site-packages/gradio/route_utils.py\", line 322, in call_process_api\n",
      "    output = await app.get_blocks().process_api(\n",
      "             ^^^^^^^^^^^^^^^^^^^^^^^^^^^^^^^^^^^\n",
      "  File \"/Users/skyzhao/.pyenv/versions/3.12.7/lib/python3.12/site-packages/gradio/blocks.py\", line 2147, in process_api\n",
      "    result = await self.call_function(\n",
      "             ^^^^^^^^^^^^^^^^^^^^^^^^^\n",
      "  File \"/Users/skyzhao/.pyenv/versions/3.12.7/lib/python3.12/site-packages/gradio/blocks.py\", line 1665, in call_function\n",
      "    prediction = await anyio.to_thread.run_sync(  # type: ignore\n",
      "                 ^^^^^^^^^^^^^^^^^^^^^^^^^^^^^^^^^^^^^^^^^^^^^^^\n",
      "  File \"/Users/skyzhao/.pyenv/versions/3.12.7/lib/python3.12/site-packages/anyio/to_thread.py\", line 56, in run_sync\n",
      "    return await get_async_backend().run_sync_in_worker_thread(\n",
      "           ^^^^^^^^^^^^^^^^^^^^^^^^^^^^^^^^^^^^^^^^^^^^^^^^^^^^\n",
      "  File \"/Users/skyzhao/.pyenv/versions/3.12.7/lib/python3.12/site-packages/anyio/_backends/_asyncio.py\", line 2505, in run_sync_in_worker_thread\n",
      "    return await future\n",
      "           ^^^^^^^^^^^^\n",
      "  File \"/Users/skyzhao/.pyenv/versions/3.12.7/lib/python3.12/site-packages/anyio/_backends/_asyncio.py\", line 1005, in run\n",
      "    result = context.run(func, *args)\n",
      "             ^^^^^^^^^^^^^^^^^^^^^^^^\n",
      "  File \"/Users/skyzhao/.pyenv/versions/3.12.7/lib/python3.12/site-packages/gradio/utils.py\", line 889, in wrapper\n",
      "    response = f(*args, **kwargs)\n",
      "               ^^^^^^^^^^^^^^^^^^\n",
      "  File \"/var/folders/4g/3jch0npn24s1qh_3msm1942w0000gn/T/ipykernel_92993/1666576672.py\", line 14, in detect_and_speak\n",
      "    results = model(image)\n",
      "              ^^^^^^^^^^^^\n",
      "  File \"/Users/skyzhao/.pyenv/versions/3.12.7/lib/python3.12/site-packages/torch/nn/modules/module.py\", line 1511, in _wrapped_call_impl\n",
      "    return self._call_impl(*args, **kwargs)\n",
      "           ^^^^^^^^^^^^^^^^^^^^^^^^^^^^^^^^\n",
      "  File \"/Users/skyzhao/.pyenv/versions/3.12.7/lib/python3.12/site-packages/torch/nn/modules/module.py\", line 1520, in _call_impl\n",
      "    return forward_call(*args, **kwargs)\n",
      "           ^^^^^^^^^^^^^^^^^^^^^^^^^^^^^\n",
      "  File \"/Users/skyzhao/.pyenv/versions/3.12.7/lib/python3.12/site-packages/torch/utils/_contextlib.py\", line 115, in decorate_context\n",
      "    return func(*args, **kwargs)\n",
      "           ^^^^^^^^^^^^^^^^^^^^^\n",
      "  File \"/Users/skyzhao/.cache/torch/hub/ultralytics_yolov5_master/models/common.py\", line 894, in forward\n",
      "    if im.shape[0] < 5:  # image in CHW\n",
      "       ^^^^^^^^\n",
      "AttributeError: 'NoneType' object has no attribute 'shape'\n"
     ]
    }
   ],
   "source": [
    "import gradio as gr\n",
    "import torch\n",
    "from PIL import Image\n",
    "from gtts import gTTS\n",
    "import os\n",
    "import tempfile\n",
    "\n",
    "\n",
    "model = torch.hub.load('ultralytics/yolov5', 'yolov5l', pretrained=True)\n",
    "\n",
    "\n",
    "def detect_and_speak(image):\n",
    "    results = model(image)\n",
    "    labels = results.pandas().xyxy[0]['name'].tolist()\n",
    "\n",
    "    if not labels:\n",
    "        description = \"No objects detected.\"\n",
    "    else:\n",
    "        unique_labels = list(set(labels))\n",
    "        description = f\"Detected: {', '.join(unique_labels)}.\"\n",
    "\n",
    "    tts = gTTS(description)\n",
    "    tmp_file = tempfile.NamedTemporaryFile(delete=False, suffix=\".mp3\")\n",
    "    tts.save(tmp_file.name)\n",
    "\n",
    "    return results.render()[0], description, tmp_file.name\n",
    "\n",
    "# just for the gradio interface\n",
    "demo = gr.Interface(\n",
    "    fn=detect_and_speak,\n",
    "    inputs=gr.Image(type=\"pil\", label=\"Upload or Take a Photo\"),\n",
    "    outputs=[\n",
    "        gr.Image(label=\"Detected Image\"),\n",
    "        gr.Text(label=\"Detections\"),\n",
    "        gr.Audio(label=\"Audio Feedback\", autoplay=True)\n",
    "    ],\n",
    "    title=\"YOLOv5 Object Detection with Audio Feedback\",\n",
    "    allow_flagging=\"never\"\n",
    ")\n",
    "\n",
    "demo.launch()\n"
   ]
  },
  {
   "cell_type": "code",
   "execution_count": null,
   "id": "beeeec0d-a1c8-444f-a72c-913f0cde8fe5",
   "metadata": {},
   "outputs": [],
   "source": []
  }
 ],
 "metadata": {
  "kernelspec": {
   "display_name": "Python 3 (ipykernel)",
   "language": "python",
   "name": "python3"
  },
  "language_info": {
   "codemirror_mode": {
    "name": "ipython",
    "version": 3
   },
   "file_extension": ".py",
   "mimetype": "text/x-python",
   "name": "python",
   "nbconvert_exporter": "python",
   "pygments_lexer": "ipython3",
   "version": "3.12.7"
  }
 },
 "nbformat": 4,
 "nbformat_minor": 5
}
